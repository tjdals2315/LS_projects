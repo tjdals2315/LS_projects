{
 "cells": [
  {
   "cell_type": "code",
   "execution_count": 1,
   "metadata": {},
   "outputs": [],
   "source": [
    "from bs4 import BeautifulSoup\n",
    "from selenium import webdriver ## 브라우저 제어\n",
    "from selenium.webdriver.chrome.service import Service as ChromeService ## 크롬 브라우저 제어\n",
    "from selenium.webdriver.common.keys import Keys ## 키보드 제어\n",
    "from selenium.webdriver.support import expected_conditions as EC ## 웹페이지 조건 기다림\n",
    "from selenium.webdriver.support.ui import WebDriverWait ## 웹페이지 대기\n",
    "from selenium.webdriver.common.by import By ## 웹페이지 요소\n",
    "\n",
    "from webdriver_manager.chrome import ChromeDriverManager\n",
    "\n",
    "\n",
    "import warnings\n",
    "warnings.filterwarnings(action=\"ignore\")\n",
    "import re\n",
    "import pandas as pd\n",
    "import datetime\n",
    "import time\n",
    "import os\n",
    "from tqdm import tqdm\n",
    "\n",
    "today = datetime.date.today().strftime(\"%Y-%m-%d\")\n",
    "\n",
    "options = webdriver.ChromeOptions()\n",
    "options.add_argument(\"--disable-web-security\") ## 웹 보안 해제\n",
    "options.add_argument(\"--disable-site-isolation-trials\") ## 사이트 격리 해제\n",
    "options.add_argument(\"--window-size=1440,1200\") ## 창 크기\n",
    "\n",
    "# options.add_argument('headless') ## 헤드리스\n",
    "\n",
    "Keys = Keys()\n",
    "options.add_argument(\n",
    "    \"user-agent=Mozilla/5.0 (Macintosh; Intel Mac OS X 10_12_5) AppleWebKit/537.36 (KHTML, like Gecko) Chrome/49.0.2564.116 Safari/537.37\"\n",
    ") ## 가짜 User-Agent 실행 (크롬 49 버전으로 위장)\n",
    "\n",
    "\n",
    "driver = webdriver.Chrome(\n",
    "    service=ChromeService(ChromeDriverManager().install()), options=options\n",
    ") ## 크롬드라이버를 설치하고 옵션을 적용하여 실행\n",
    "\n",
    "driver.implicitly_wait(10) ## 웹페이지가 로드되는 시간을 암묵적 대기, 5초 기다림\n",
    "\n"
   ]
  },
  {
   "cell_type": "code",
   "execution_count": 2,
   "metadata": {},
   "outputs": [],
   "source": [
    "BASE_URL = '''https://www.wanted.co.kr/search?query=%EB%8D%B0%EC%9D%B4%ED%84%B0+%EB%B6%84%EC%84%9D&tab=position'''\n",
    "\n",
    "driver.get(BASE_URL)\n",
    "\n",
    "html = driver.page_source\n",
    "soup = BeautifulSoup(html, 'html.parser')\n"
   ]
  },
  {
   "cell_type": "code",
   "execution_count": 3,
   "metadata": {},
   "outputs": [],
   "source": [
    "time.sleep(1)\n",
    "\n",
    "## 무한 스크롤 아래로 내리기\n",
    "SCROLL_PAUSE_TIME = 2\n",
    "last_height = driver.execute_script(\"return document.body.scrollHeight\")\n",
    "\n",
    "while True:\n",
    "    driver.execute_script(\"window.scrollTo(0, document.body.scrollHeight);\")\n",
    "    time.sleep(SCROLL_PAUSE_TIME)\n",
    "    new_height = driver.execute_script(\"return document.body.scrollHeight\")\n",
    "    if new_height == last_height:\n",
    "        break\n",
    "    last_height = new_height\n",
    "\n"
   ]
  },
  {
   "cell_type": "markdown",
   "metadata": {},
   "source": [
    "### 웹 페이지는 업데이트 될때마다 구조가 변경되므로 코드가 작동하지 않을 수 있어요.\n",
    "\n",
    "- 그림에 보이는 요소를 찾아주세요.\n",
    "![원티드](https://firebasestorage.googleapis.com/v0/b/ls-storage-e452a.appspot.com/o/%E1%84%8B%E1%85%AF%E1%86%AB%E1%84%90%E1%85%B5%E1%84%83%E1%85%B3_%E1%84%89%E1%85%AE%E1%84%8C%E1%85%B5%E1%86%B8_1.png?alt=media&token=19d79b2f-96f1-445d-8905-961f71b41854)"
   ]
  },
  {
   "cell_type": "code",
   "execution_count": 8,
   "metadata": {},
   "outputs": [],
   "source": [
    "## 페이지 소스 가져오기\n",
    "htmls = driver.page_source\n",
    "soups = BeautifulSoup(htmls, 'html.parser')\n",
    "\n",
    "items= soups.find_all('div', class_='JobCard_container__REty8 JobCard_container--variant-card__gaJS_')\n"
   ]
  },
  {
   "cell_type": "code",
   "execution_count": 9,
   "metadata": {},
   "outputs": [
    {
     "data": {
      "text/plain": [
       "137"
      ]
     },
     "execution_count": 9,
     "metadata": {},
     "output_type": "execute_result"
    }
   ],
   "source": [
    "len(items)"
   ]
  },
  {
   "cell_type": "code",
   "execution_count": 10,
   "metadata": {},
   "outputs": [],
   "source": [
    "## index를 유지하면서 중복되는 요소 제거\n",
    "items = list({item.text: item for item in items}.values())\n"
   ]
  },
  {
   "cell_type": "code",
   "execution_count": 11,
   "metadata": {},
   "outputs": [
    {
     "data": {
      "text/plain": [
       "128"
      ]
     },
     "execution_count": 11,
     "metadata": {},
     "output_type": "execute_result"
    }
   ],
   "source": [
    "len(items)"
   ]
  },
  {
   "cell_type": "code",
   "execution_count": 12,
   "metadata": {},
   "outputs": [],
   "source": [
    "target_url_list = []\n",
    "for item in items:\n",
    "    url = 'https://www.wanted.co.kr'+item.find('a')['href']\n",
    "    target_url_list.append(url)"
   ]
  },
  {
   "cell_type": "code",
   "execution_count": 13,
   "metadata": {},
   "outputs": [
    {
     "data": {
      "text/plain": [
       "128"
      ]
     },
     "execution_count": 13,
     "metadata": {},
     "output_type": "execute_result"
    }
   ],
   "source": [
    "len(target_url_list)"
   ]
  },
  {
   "cell_type": "markdown",
   "metadata": {},
   "source": [
    "## 세부 화면 데이터 수집\n",
    "- 원하는 회사 공고를 클릭해주세요.\n",
    "#### ✅ 이런 회사 사이트로 오셔야합니다.\n",
    "\n",
    "![상세페이지](https://firebasestorage.googleapis.com/v0/b/ls-storage-e452a.appspot.com/o/%E1%84%8B%E1%85%AF%E1%86%AB%E1%84%90%E1%85%B5%E1%84%83%E1%85%B3_%E1%84%89%E1%85%AE%E1%84%8C%E1%85%B5%E1%86%B8_2.png?alt=media&token=8235bc8b-6329-47c7-b111-4bceee7b5997)"
   ]
  },
  {
   "cell_type": "markdown",
   "metadata": {},
   "source": [
    "- 마찬가지로 수집을 원하는 곳의 XPATH를 가져와야합니다.\n",
    "\n",
    "![클래스찾기](https://firebasestorage.googleapis.com/v0/b/ls-storage-e452a.appspot.com/o/%E1%84%8B%E1%85%AF%E1%86%AB%E1%84%90%E1%85%B5%E1%84%83%E1%85%B3_%E1%84%89%E1%85%AE%E1%84%8C%E1%85%B5%E1%86%B8_3.png?alt=media&token=ca335967-df8f-4b3b-b853-30e468bcb16f)"
   ]
  },
  {
   "cell_type": "code",
   "execution_count": 16,
   "metadata": {},
   "outputs": [],
   "source": [
    "company_name = driver.find_element(By.XPATH, '//*[@id=\"__next\"]/main/div[1]/div/section/header/div/div[1]/a').text\n",
    "title = driver.find_element('xpath', '//*[@id=\"__next\"]/main/div[1]/div/section/header/h1').text"
   ]
  },
  {
   "cell_type": "code",
   "execution_count": 19,
   "metadata": {},
   "outputs": [
    {
     "data": {
      "text/plain": [
       "('윌로그', '데이터 분석 담당자 (3년 이상)')"
      ]
     },
     "execution_count": 19,
     "metadata": {},
     "output_type": "execute_result"
    }
   ],
   "source": [
    "company_name, title"
   ]
  },
  {
   "cell_type": "markdown",
   "metadata": {},
   "source": [
    "### 더보기 버튼 클릭\n",
    "\n",
    "![더보기](https://firebasestorage.googleapis.com/v0/b/ls-storage-e452a.appspot.com/o/%E1%84%8B%E1%85%AF%E1%86%AB%E1%84%90%E1%85%B5%E1%84%83%E1%85%B3_%E1%84%89%E1%85%AE%E1%84%8C%E1%85%B5%E1%86%B8_4.png?alt=media&token=9a99ed4f-5e3a-44d8-8450-b17f26620dfc)\n",
    "\n",
    "# 🚨 주의, 더보기 버튼이 클릭된 상태에서 아래의 코드를 실행하면 당연히 에러가 터집니다."
   ]
  },
  {
   "cell_type": "code",
   "execution_count": 25,
   "metadata": {},
   "outputs": [],
   "source": [
    "## 상세정보 클릭\n",
    "driver.find_element(By.XPATH, '//*[@id=\"__next\"]/main/div[1]/div/section/section/article[1]/div/button/span[2]').click()\n"
   ]
  },
  {
   "cell_type": "markdown",
   "metadata": {},
   "source": [
    "#### 계속 말씀드리지만, 각각 태그에 맞는 Class명을 찾아서 넣어주셔야합니다.\n",
    "- 홈페이지가 업데이트 되면 Class명이 변경될 수 있어요.\n",
    "\n",
    "![태그에맞는클래스](https://firebasestorage.googleapis.com/v0/b/ls-storage-e452a.appspot.com/o/%E1%84%8B%E1%85%AF%E1%86%AB%E1%84%90%E1%85%B5%E1%84%83%E1%85%B3_%E1%84%89%E1%85%AE%E1%84%8C%E1%85%B5%E1%86%B8_5.png?alt=media&token=453e102e-ece8-4ea7-a687-94205ff37e1f)"
   ]
  },
  {
   "cell_type": "code",
   "execution_count": 26,
   "metadata": {},
   "outputs": [],
   "source": [
    "## 페이지 소스 업데이트\n",
    "html = driver.page_source\n",
    "soup = BeautifulSoup(html, 'html.parser')\n",
    "position_detail = soup.find('section', {'class': 'JobContent_descriptionWrapper__2JNh_'})\\\n",
    "                    .find('article', {'class': 'JobDescription_JobDescription__dq8G5'})\n",
    "\n"
   ]
  },
  {
   "cell_type": "markdown",
   "metadata": {},
   "source": [
    "#### 포지션 상세\n",
    "\n",
    "- 팀 소개\n",
    "- 주요업무\n",
    "- 자격요건\n",
    "- 우대사항\n",
    "- 혜택 및 복지"
   ]
  },
  {
   "cell_type": "code",
   "execution_count": 28,
   "metadata": {},
   "outputs": [],
   "source": [
    "position_detail = soup.find('section', {'class': 'JobContent_descriptionWrapper__2JNh_'})\\\n",
    "                    .find('article', {'class': 'JobDescription_JobDescription__dq8G5'})\n",
    "\n",
    "team_info = position_detail.find('p').text\n",
    "main_job_title = position_detail.find_all('div', {'class': 'JobDescription_JobDescription__paragraph__Lhegj'})[0].find('h3').text\n",
    "main_job_content = position_detail.find_all('div', {'class': 'JobDescription_JobDescription__paragraph__Lhegj'})[0].find('p').text"
   ]
  },
  {
   "cell_type": "code",
   "execution_count": 30,
   "metadata": {},
   "outputs": [],
   "source": [
    "requirement_title = position_detail.find_all('div', {'class': 'JobDescription_JobDescription__paragraph__Lhegj'})[1].find('h3').text\n",
    "requirement_content = position_detail.find_all('div', {'class': 'JobDescription_JobDescription__paragraph__Lhegj'})[1].find('p').text\n"
   ]
  },
  {
   "cell_type": "code",
   "execution_count": 33,
   "metadata": {},
   "outputs": [],
   "source": [
    "requirement_title = position_detail.find_all('div', {'class': 'JobDescription_JobDescription__paragraph__Lhegj'})[1].find('h3').text\n",
    "requirement_content = position_detail.find_all('div', {'class': 'JobDescription_JobDescription__paragraph__Lhegj'})[1].find('p').text\n",
    "\n",
    "preferred_title = position_detail.find_all('div', {'class': 'JobDescription_JobDescription__paragraph__Lhegj'})[2].find('h3').text\n",
    "preferred_content = position_detail.find_all('div', {'class': 'JobDescription_JobDescription__paragraph__Lhegj'})[2].find('p').text\n",
    "wellbeing_title = position_detail.find_all('div', {'class': 'JobDescription_JobDescription__paragraph__Lhegj'})[3].find('h3').text\n",
    "wellbeing_content = position_detail.find_all('div', {'class': 'JobDescription_JobDescription__paragraph__Lhegj'})[3].find('p').text"
   ]
  },
  {
   "cell_type": "code",
   "execution_count": null,
   "metadata": {},
   "outputs": [],
   "source": []
  },
  {
   "cell_type": "markdown",
   "metadata": {},
   "source": [
    "### 기술 스택"
   ]
  },
  {
   "cell_type": "code",
   "execution_count": 34,
   "metadata": {},
   "outputs": [],
   "source": [
    "html = driver.page_source\n",
    "soup = BeautifulSoup(html, 'html.parser')\n",
    "\n",
    "# JobSkillTags_JobSkillTags__V1tZr\n",
    "skill_stacks = soup.find('article', {'class': 'JobSkillTags_JobSkillTags__UA0s6'})\n",
    "\n",
    "skill_title = skill_stacks.find('h2').text\n",
    "skill_list = [i.text for i in skill_stacks.find('ul').find_all('li')]\n"
   ]
  },
  {
   "cell_type": "markdown",
   "metadata": {},
   "source": [
    "#### 직장 주소"
   ]
  },
  {
   "cell_type": "code",
   "execution_count": 39,
   "metadata": {},
   "outputs": [
    {
     "data": {
      "text/plain": [
       "'서울특별시 강남구 삼성로 507, JS타워 9층'"
      ]
     },
     "execution_count": 39,
     "metadata": {},
     "output_type": "execute_result"
    }
   ],
   "source": [
    "address = soup.find('article', {'class': 'JobWorkPlace_JobWorkPlace__Q6Gml'}).find('span').text\n",
    "address"
   ]
  },
  {
   "cell_type": "code",
   "execution_count": 40,
   "metadata": {},
   "outputs": [],
   "source": [
    "def detail_crawl(driver, idx):\n",
    "\n",
    "    team_info = None\n",
    "    main_job_title = None\n",
    "    main_job_content = None\n",
    "    requirement_title = None\n",
    "    requirement_content = None\n",
    "    preferred_title = None\n",
    "    preferred_content = None\n",
    "    wellbeing_title = None\n",
    "    wellbeing_content = None\n",
    "    skill_title = None\n",
    "    skill_list = None\n",
    "    address = None\n",
    "    current_url = None\n",
    "\n",
    "    ## 상세 더보기 버튼 누르기\n",
    "    try:\n",
    "        ## 상세정보 클릭\n",
    "        driver.find_element(By.XPATH, '//*[@id=\"__next\"]/main/div[1]/div/section/section/article[1]/div/button/span[2]').click()\n",
    "\n",
    "    except Exception as e:\n",
    "        print(idx, e)\n",
    "        pass\n",
    "\n",
    "    time.sleep(1)\n",
    "    \n",
    "    html = driver.page_source\n",
    "    soup = BeautifulSoup(html, 'html.parser')\n",
    "\n",
    "    company_name = driver.find_element(By.XPATH, '//*[@id=\"__next\"]/main/div[1]/div/section/header/div/div[1]/a').text\n",
    "    title = driver.find_element('xpath', '//*[@id=\"__next\"]/main/div[1]/div/section/header/h1').text\n",
    "    try:\n",
    "        target_elements1 = driver.find_element('xpath', '//*[@id=\"__next\"]/main/div[1]/div/section/section/article[1]/div/div[1]/h3')\n",
    "        # 요소가 화면에 보이도록 스크롤\n",
    "        driver.execute_script(\"arguments[0].scrollIntoView();\", target_elements1)\n",
    "\n",
    "        # 요소가 보일때까지 대기\n",
    "        WebDriverWait(driver, 10).until(EC.presence_of_element_located((By.XPATH,\\\n",
    "        '//*[@id=\"__next\"]/main/div[1]/div/section/section/article[1]/div/div[1]/h3')))\n",
    "\n",
    "        ## 스크린샷 찍기\n",
    "        driver.save_screenshot(f'screenshot/{idx}_{company_name}.png')\n",
    "\n",
    "        ## 저장할때까지 기다리기\n",
    "        time.sleep(1)\n",
    "    except Exception as e:\n",
    "        print(\"스크린샷 에러:\", idx, e)\n",
    "\n",
    "    try:\n",
    "        position_detail = soup.find('section', {'class': 'JobContent_descriptionWrapper__2JNh_'})\\\n",
    "                            .find('article', {'class': 'JobDescription_JobDescription__dq8G5'})\n",
    "\n",
    "        team_info = position_detail.find('p').text\n",
    "        main_job_title = position_detail.find_all('div', {'class': 'JobDescription_JobDescription__paragraph__Lhegj'})[0].find('h3').text\n",
    "        main_job_content = position_detail.find_all('div', {'class': 'JobDescription_JobDescription__paragraph__Lhegj'})[0].find('p').text\n",
    "        requirement_title = position_detail.find_all('div', {'class': 'JobDescription_JobDescription__paragraph__Lhegj'})[1].find('h3').text\n",
    "        requirement_content = position_detail.find_all('div', {'class': 'JobDescription_JobDescription__paragraph__Lhegj'})[1].find('p').text\n",
    "\n",
    "        preferred_title = position_detail.find_all('div', {'class': 'JobDescription_JobDescription__paragraph__Lhegj'})[2].find('h3').text\n",
    "        preferred_content = position_detail.find_all('div', {'class': 'JobDescription_JobDescription__paragraph__Lhegj'})[2].find('p').text\n",
    "        wellbeing_title = position_detail.find_all('div', {'class': 'JobDescription_JobDescription__paragraph__Lhegj'})[3].find('h3').text\n",
    "        wellbeing_content = position_detail.find_all('div', {'class': 'JobDescription_JobDescription__paragraph__Lhegj'})[3].find('p').text\n",
    "        ## 기술스택\n",
    "        skill_stacks = soup.find('article', {'class': 'JobSkillTags_JobSkillTags__UA0s6'})\n",
    "        if skill_stacks:\n",
    "            skill_title = skill_stacks.find('h2').text\n",
    "            skill_list = [i.text for i in skill_stacks.find('ul').find_all('li')]\n",
    "\n",
    "        address = soup.find('article', {'class': 'JobWorkPlace_JobWorkPlace__Q6Gml'}).find('span').text\n",
    "        current_url = driver.current_url\n",
    "    except Exception as e:\n",
    "        print(\"상세정보 에러:\", idx, e)\n",
    "        pass\n",
    "\n",
    "    return company_name, title, team_info, main_job_title, main_job_content, requirement_title, requirement_content, preferred_title, preferred_content, wellbeing_title, wellbeing_content, skill_title, skill_list, address, current_url\n"
   ]
  },
  {
   "cell_type": "code",
   "execution_count": 41,
   "metadata": {},
   "outputs": [
    {
     "data": {
      "text/plain": [
       "['https://www.wanted.co.kr/wd/225741',\n",
       " 'https://www.wanted.co.kr/wd/225236',\n",
       " 'https://www.wanted.co.kr/wd/225354',\n",
       " 'https://www.wanted.co.kr/wd/224969',\n",
       " 'https://www.wanted.co.kr/wd/161548',\n",
       " 'https://www.wanted.co.kr/wd/225142',\n",
       " 'https://www.wanted.co.kr/wd/224170',\n",
       " 'https://www.wanted.co.kr/wd/225115',\n",
       " 'https://www.wanted.co.kr/wd/224337',\n",
       " 'https://www.wanted.co.kr/wd/223481',\n",
       " 'https://www.wanted.co.kr/wd/225045',\n",
       " 'https://www.wanted.co.kr/wd/201396',\n",
       " 'https://www.wanted.co.kr/wd/218916',\n",
       " 'https://www.wanted.co.kr/wd/208247',\n",
       " 'https://www.wanted.co.kr/wd/85810',\n",
       " 'https://www.wanted.co.kr/wd/222878',\n",
       " 'https://www.wanted.co.kr/wd/220513',\n",
       " 'https://www.wanted.co.kr/wd/225195',\n",
       " 'https://www.wanted.co.kr/wd/223175',\n",
       " 'https://www.wanted.co.kr/wd/215835',\n",
       " 'https://www.wanted.co.kr/wd/203738',\n",
       " 'https://www.wanted.co.kr/wd/212760',\n",
       " 'https://www.wanted.co.kr/wd/216979',\n",
       " 'https://www.wanted.co.kr/wd/219963',\n",
       " 'https://www.wanted.co.kr/wd/142793',\n",
       " 'https://www.wanted.co.kr/wd/191674',\n",
       " 'https://www.wanted.co.kr/wd/223258',\n",
       " 'https://www.wanted.co.kr/wd/191938',\n",
       " 'https://www.wanted.co.kr/wd/213508',\n",
       " 'https://www.wanted.co.kr/wd/218746',\n",
       " 'https://www.wanted.co.kr/wd/222883',\n",
       " 'https://www.wanted.co.kr/wd/210507',\n",
       " 'https://www.wanted.co.kr/wd/180914',\n",
       " 'https://www.wanted.co.kr/wd/215111',\n",
       " 'https://www.wanted.co.kr/wd/214061',\n",
       " 'https://www.wanted.co.kr/wd/221269',\n",
       " 'https://www.wanted.co.kr/wd/220540',\n",
       " 'https://www.wanted.co.kr/wd/207720',\n",
       " 'https://www.wanted.co.kr/wd/210200',\n",
       " 'https://www.wanted.co.kr/wd/193901',\n",
       " 'https://www.wanted.co.kr/wd/219967',\n",
       " 'https://www.wanted.co.kr/wd/186195',\n",
       " 'https://www.wanted.co.kr/wd/210157',\n",
       " 'https://www.wanted.co.kr/wd/225442',\n",
       " 'https://www.wanted.co.kr/wd/216484',\n",
       " 'https://www.wanted.co.kr/wd/110492',\n",
       " 'https://www.wanted.co.kr/wd/213503',\n",
       " 'https://www.wanted.co.kr/wd/210403',\n",
       " 'https://www.wanted.co.kr/wd/224841',\n",
       " 'https://www.wanted.co.kr/wd/224065',\n",
       " 'https://www.wanted.co.kr/wd/200992',\n",
       " 'https://www.wanted.co.kr/wd/225507',\n",
       " 'https://www.wanted.co.kr/wd/202936',\n",
       " 'https://www.wanted.co.kr/wd/204718',\n",
       " 'https://www.wanted.co.kr/wd/145246',\n",
       " 'https://www.wanted.co.kr/wd/215426',\n",
       " 'https://www.wanted.co.kr/wd/215993',\n",
       " 'https://www.wanted.co.kr/wd/219968',\n",
       " 'https://www.wanted.co.kr/wd/217566',\n",
       " 'https://www.wanted.co.kr/wd/214874',\n",
       " 'https://www.wanted.co.kr/wd/206929',\n",
       " 'https://www.wanted.co.kr/wd/203288',\n",
       " 'https://www.wanted.co.kr/wd/180586',\n",
       " 'https://www.wanted.co.kr/wd/215345',\n",
       " 'https://www.wanted.co.kr/wd/157552',\n",
       " 'https://www.wanted.co.kr/wd/208973',\n",
       " 'https://www.wanted.co.kr/wd/189666',\n",
       " 'https://www.wanted.co.kr/wd/162084',\n",
       " 'https://www.wanted.co.kr/wd/225565',\n",
       " 'https://www.wanted.co.kr/wd/209965',\n",
       " 'https://www.wanted.co.kr/wd/213442',\n",
       " 'https://www.wanted.co.kr/wd/191088',\n",
       " 'https://www.wanted.co.kr/wd/176470',\n",
       " 'https://www.wanted.co.kr/wd/197955',\n",
       " 'https://www.wanted.co.kr/wd/205486',\n",
       " 'https://www.wanted.co.kr/wd/71388',\n",
       " 'https://www.wanted.co.kr/wd/200700',\n",
       " 'https://www.wanted.co.kr/wd/225572',\n",
       " 'https://www.wanted.co.kr/wd/225337',\n",
       " 'https://www.wanted.co.kr/wd/223227',\n",
       " 'https://www.wanted.co.kr/wd/196128',\n",
       " 'https://www.wanted.co.kr/wd/130444',\n",
       " 'https://www.wanted.co.kr/wd/119414',\n",
       " 'https://www.wanted.co.kr/wd/220186',\n",
       " 'https://www.wanted.co.kr/wd/225098',\n",
       " 'https://www.wanted.co.kr/wd/223310',\n",
       " 'https://www.wanted.co.kr/wd/218572',\n",
       " 'https://www.wanted.co.kr/wd/222011',\n",
       " 'https://www.wanted.co.kr/wd/156620',\n",
       " 'https://www.wanted.co.kr/wd/222965',\n",
       " 'https://www.wanted.co.kr/wd/222276',\n",
       " 'https://www.wanted.co.kr/wd/196196',\n",
       " 'https://www.wanted.co.kr/wd/167495',\n",
       " 'https://www.wanted.co.kr/wd/191443',\n",
       " 'https://www.wanted.co.kr/wd/194470',\n",
       " 'https://www.wanted.co.kr/wd/215042',\n",
       " 'https://www.wanted.co.kr/wd/223978',\n",
       " 'https://www.wanted.co.kr/wd/212988',\n",
       " 'https://www.wanted.co.kr/wd/219384',\n",
       " 'https://www.wanted.co.kr/wd/223023',\n",
       " 'https://www.wanted.co.kr/wd/219915',\n",
       " 'https://www.wanted.co.kr/wd/219850',\n",
       " 'https://www.wanted.co.kr/wd/204725',\n",
       " 'https://www.wanted.co.kr/wd/184502',\n",
       " 'https://www.wanted.co.kr/wd/180746',\n",
       " 'https://www.wanted.co.kr/wd/220545',\n",
       " 'https://www.wanted.co.kr/wd/222747',\n",
       " 'https://www.wanted.co.kr/wd/221232',\n",
       " 'https://www.wanted.co.kr/wd/202177',\n",
       " 'https://www.wanted.co.kr/wd/212908',\n",
       " 'https://www.wanted.co.kr/wd/200350',\n",
       " 'https://www.wanted.co.kr/wd/216937',\n",
       " 'https://www.wanted.co.kr/wd/155940',\n",
       " 'https://www.wanted.co.kr/wd/217760',\n",
       " 'https://www.wanted.co.kr/wd/207717',\n",
       " 'https://www.wanted.co.kr/wd/196930',\n",
       " 'https://www.wanted.co.kr/wd/211767',\n",
       " 'https://www.wanted.co.kr/wd/221127',\n",
       " 'https://www.wanted.co.kr/wd/209268',\n",
       " 'https://www.wanted.co.kr/wd/210848',\n",
       " 'https://www.wanted.co.kr/wd/178985',\n",
       " 'https://www.wanted.co.kr/wd/208291',\n",
       " 'https://www.wanted.co.kr/wd/207288',\n",
       " 'https://www.wanted.co.kr/wd/179347',\n",
       " 'https://www.wanted.co.kr/wd/193867',\n",
       " 'https://www.wanted.co.kr/wd/181976',\n",
       " 'https://www.wanted.co.kr/wd/149962',\n",
       " 'https://www.wanted.co.kr/wd/107009']"
      ]
     },
     "execution_count": 41,
     "metadata": {},
     "output_type": "execute_result"
    }
   ],
   "source": [
    "target_url_list"
   ]
  },
  {
   "cell_type": "code",
   "execution_count": 43,
   "metadata": {},
   "outputs": [
    {
     "name": "stdout",
     "output_type": "stream",
     "text": [
      "✅ 크롤링 시작\n"
     ]
    },
    {
     "name": "stderr",
     "output_type": "stream",
     "text": [
      " 80%|███████▉  | 102/128 [07:52<02:03,  4.75s/it]"
     ]
    },
    {
     "name": "stdout",
     "output_type": "stream",
     "text": [
      "상세정보 에러: 102 list index out of range\n"
     ]
    },
    {
     "name": "stderr",
     "output_type": "stream",
     "text": [
      "100%|██████████| 128/128 [09:54<00:00,  4.65s/it]"
     ]
    },
    {
     "name": "stdout",
     "output_type": "stream",
     "text": [
      "✅ 수집완료\n"
     ]
    },
    {
     "name": "stderr",
     "output_type": "stream",
     "text": [
      "\n"
     ]
    }
   ],
   "source": [
    "print(\"✅ 크롤링 시작\")\n",
    "data_list = []\n",
    "for idx, target in enumerate(tqdm(target_url_list)):\n",
    "    try :\n",
    "        driver.get(target)\n",
    "        company_name, title, team_info, main_job_title, main_job_content, requirement_title, requirement_content, preferred_title, preferred_content, wellbeing_title, wellbeing_content, skill_title, skill_list, address, current_url = detail_crawl(driver, idx)\n",
    "        time.sleep(1)\n",
    "        data = {\n",
    "            'company_name': company_name,\n",
    "            'title': title,\n",
    "            'team_info': team_info,\n",
    "            'Main Job Title': main_job_title,\n",
    "            'Main Job Content': main_job_content,\n",
    "            'Requirement Title': requirement_title,\n",
    "            'Requirement Content': requirement_content,\n",
    "            'Preferred Title': preferred_title,\n",
    "            'Preferred Content': preferred_content,\n",
    "            'Wellbeing Title': wellbeing_title,\n",
    "            'Wellbeing Content': wellbeing_content,\n",
    "            'Skill Title': skill_title,\n",
    "            'Skill List': skill_list,\n",
    "            'Address': address,\n",
    "            'Current URL': current_url\n",
    "        }\n",
    "        data_list.append(data)\n",
    "    except Exception as e:\n",
    "        print(company_name, e)\n",
    "        pass    \n",
    "\n",
    "print(\"✅ 수집완료\")\n",
    "res_df = pd.DataFrame(data_list)\n"
   ]
  },
  {
   "cell_type": "code",
   "execution_count": 44,
   "metadata": {},
   "outputs": [
    {
     "data": {
      "text/html": [
       "<div>\n",
       "<style scoped>\n",
       "    .dataframe tbody tr th:only-of-type {\n",
       "        vertical-align: middle;\n",
       "    }\n",
       "\n",
       "    .dataframe tbody tr th {\n",
       "        vertical-align: top;\n",
       "    }\n",
       "\n",
       "    .dataframe thead th {\n",
       "        text-align: right;\n",
       "    }\n",
       "</style>\n",
       "<table border=\"1\" class=\"dataframe\">\n",
       "  <thead>\n",
       "    <tr style=\"text-align: right;\">\n",
       "      <th></th>\n",
       "      <th>company_name</th>\n",
       "      <th>title</th>\n",
       "      <th>team_info</th>\n",
       "      <th>Main Job Title</th>\n",
       "      <th>Main Job Content</th>\n",
       "      <th>Requirement Title</th>\n",
       "      <th>Requirement Content</th>\n",
       "      <th>Preferred Title</th>\n",
       "      <th>Preferred Content</th>\n",
       "      <th>Wellbeing Title</th>\n",
       "      <th>Wellbeing Content</th>\n",
       "      <th>Skill Title</th>\n",
       "      <th>Skill List</th>\n",
       "      <th>Address</th>\n",
       "      <th>Current URL</th>\n",
       "    </tr>\n",
       "  </thead>\n",
       "  <tbody>\n",
       "    <tr>\n",
       "      <th>0</th>\n",
       "      <td>자비스앤빌런즈(삼쩜삼)</td>\n",
       "      <td>Data Analyst</td>\n",
       "      <td>[We make your Money, save your Time,  find you...</td>\n",
       "      <td>주요업무</td>\n",
       "      <td>• 삼쩜삼이 서비스하는 프로덕트 전반에 대한 오너십을 갖고 분석업무를 진행하게 됩니...</td>\n",
       "      <td>자격요건</td>\n",
       "      <td>• 합리적, 논리적 사고능력을 가지신 분• A/B 테스트에 대한 이해를 바탕으로 실...</td>\n",
       "      <td>우대사항</td>\n",
       "      <td>• 머신러닝에 대한 이해도가 있으신 분[서류는 이렇게 제출해 주세요.]• 지원서류 ...</td>\n",
       "      <td>혜택 및 복지</td>\n",
       "      <td>[최고의 인재에게 최고의 보상]• 개인 성과 및 경영 성과에 따른 인센티브 제도• ...</td>\n",
       "      <td>None</td>\n",
       "      <td>None</td>\n",
       "      <td>서울 강남구 테헤란로44길 8, 아이콘역삼 9,10층 자비스앤빌런즈</td>\n",
       "      <td>https://www.wanted.co.kr/wd/225741</td>\n",
       "    </tr>\n",
       "    <tr>\n",
       "      <th>1</th>\n",
       "      <td>테크랩스</td>\n",
       "      <td>마케팅 데이터분석 (브랜드엑셀러레이팅사업부/데이터분석팀)</td>\n",
       "      <td>\"One for all, All for one!\"애드테크의 패러다임을 함께 선도할 ...</td>\n",
       "      <td>주요업무</td>\n",
       "      <td>[브랜드 엑셀러레이팅 사업부]ㆍ고관여 제품이나 서비스의 마케팅 전략과 실행능력을 특...</td>\n",
       "      <td>자격요건</td>\n",
       "      <td>• 중상급 수준의 Excel 활용이 가능하신 분(필수)• 종합적 사고에 기반한 방법...</td>\n",
       "      <td>우대사항</td>\n",
       "      <td>• 사회과학 계열 통계를 학습하신 분• 데이터 분석 관련 자격증(사회조사분석사 등)...</td>\n",
       "      <td>혜택 및 복지</td>\n",
       "      <td>• 자유로운 사내문화: 상호존중, 배려, 자유로운 출퇴근 복장• 자유로운 연차: 연...</td>\n",
       "      <td>None</td>\n",
       "      <td>None</td>\n",
       "      <td>강남구 언주로 428, 4층, 5층, 6층, 9층, 13층, 14층</td>\n",
       "      <td>https://www.wanted.co.kr/wd/225236</td>\n",
       "    </tr>\n",
       "    <tr>\n",
       "      <th>2</th>\n",
       "      <td>코인원(coinone)</td>\n",
       "      <td>Product Data Analyst (Business Analyst)</td>\n",
       "      <td>Bringing Blockchain into the world.코인원은 블록체인을 ...</td>\n",
       "      <td>주요업무</td>\n",
       "      <td>• 거래소 앱/웹의 사용자 데이터 분석, 주간 행동 지표 및 인사이트 발표, 중-장...</td>\n",
       "      <td>자격요건</td>\n",
       "      <td>• 모바일/웹 플랫폼, 유사 업종의 데이터 분석가 실무 3년 이상 경력이 있는 분 ...</td>\n",
       "      <td>우대사항</td>\n",
       "      <td>• 직책 없이도 주위의 인정을 받을 만큼 강한 오너십과 책임감, 봉사 의식이 강한 ...</td>\n",
       "      <td>혜택 및 복지</td>\n",
       "      <td>혜택 및 복지[코인원 Crew만을 위한 복리후생]# 든든한 밥심을 위해•﻿  점식,...</td>\n",
       "      <td>None</td>\n",
       "      <td>None</td>\n",
       "      <td>서울특별시 영등포구 여의대로 108 파크원 타워1 45층, 46층</td>\n",
       "      <td>https://www.wanted.co.kr/wd/225354</td>\n",
       "    </tr>\n",
       "    <tr>\n",
       "      <th>3</th>\n",
       "      <td>오피앤</td>\n",
       "      <td>[Product 팀] Data Analyst</td>\n",
       "      <td>오픈닥터는 병의원 맞춤형 부동산 중개 및 의료 상권 정보를 제공하는 프롭테크 스타트...</td>\n",
       "      <td>주요업무</td>\n",
       "      <td>[팀 소개]• 오픈닥터의 Data Analyst는 Product 팀 소속으로 일합니...</td>\n",
       "      <td>자격요건</td>\n",
       "      <td>• SQL, R, Python 등의 DBMS와 통계 소프트웨어를 잘 다루시는 분• ...</td>\n",
       "      <td>우대사항</td>\n",
       "      <td>• Data 관련 전공 석사 이상• Data 관련 프로젝트나 조직을 리드하신 경험이...</td>\n",
       "      <td>혜택 및 복지</td>\n",
       "      <td>문제 해결을 잘하는 훌륭한 팀이 실질적 성과에 집중하고 있어요! 일 잘하는 팀원들만...</td>\n",
       "      <td>None</td>\n",
       "      <td>None</td>\n",
       "      <td>서울시 강남구 논현로150길 40, 3층</td>\n",
       "      <td>https://www.wanted.co.kr/wd/224969</td>\n",
       "    </tr>\n",
       "    <tr>\n",
       "      <th>4</th>\n",
       "      <td>포티투닷(42dot)</td>\n",
       "      <td>Senior Data Analyst</td>\n",
       "      <td>[포지션 소개]42dot의 Data Analyst는 SDV (Software Def...</td>\n",
       "      <td>주요업무</td>\n",
       "      <td>• Data를 통한 비즈니스 의사 결정 지원• 주요 비즈니스 지표를 설계/개발• 비...</td>\n",
       "      <td>자격요건</td>\n",
       "      <td>• 데이터 분석 프로젝트 수행 및 구축 경험 7년 이상• 분석 프로젝트에 대한 요구...</td>\n",
       "      <td>우대사항</td>\n",
       "      <td>• 컴퓨터 공학, 통계학, 산업공학 등 관련 학위 보유• 차량 데이터에 대한 이해 ...</td>\n",
       "      <td>혜택 및 복지</td>\n",
       "      <td>[전형 절차]∙ 서류전형 • 1차 인터뷰 • 2차 인터뷰 • 3차 인터뷰 • 처우협...</td>\n",
       "      <td>기술 스택 • 툴</td>\n",
       "      <td>[Python, SQL, Tableau]</td>\n",
       "      <td>서울특별시 강남구 남부순환로 2621 (도곡동, 서브원 강남빌딩) 9층</td>\n",
       "      <td>https://www.wanted.co.kr/wd/161548</td>\n",
       "    </tr>\n",
       "    <tr>\n",
       "      <th>...</th>\n",
       "      <td>...</td>\n",
       "      <td>...</td>\n",
       "      <td>...</td>\n",
       "      <td>...</td>\n",
       "      <td>...</td>\n",
       "      <td>...</td>\n",
       "      <td>...</td>\n",
       "      <td>...</td>\n",
       "      <td>...</td>\n",
       "      <td>...</td>\n",
       "      <td>...</td>\n",
       "      <td>...</td>\n",
       "      <td>...</td>\n",
       "      <td>...</td>\n",
       "      <td>...</td>\n",
       "    </tr>\n",
       "    <tr>\n",
       "      <th>123</th>\n",
       "      <td>당근마켓</td>\n",
       "      <td>데이터 분석가 • 검색</td>\n",
       "      <td>Data Analyst를 소개해요당근마켓의 비전은 \"당근마켓은 동네 이웃 간의 연결...</td>\n",
       "      <td>주요업무</td>\n",
       "      <td>• 제품 개선과 사용자 경험 개선에 필요한 데이터 분석 과제를 정의하고, 이를 바탕...</td>\n",
       "      <td>자격요건</td>\n",
       "      <td>• 5년 이상의 모바일 데이터 분석 경험이 있으며 데이터에 근거한 인사이트를 기반으...</td>\n",
       "      <td>우대사항</td>\n",
       "      <td>• 검색, 피드 등 유저의 발견 경험을 연관된 데이터를 활용해 개선해본 경험이 있으...</td>\n",
       "      <td>혜택 및 복지</td>\n",
       "      <td>업무 제도 및 지원    • 세미나, 스터디 참석을 권장하고 비용을 지원하고 있어요...</td>\n",
       "      <td>None</td>\n",
       "      <td>None</td>\n",
       "      <td>서울시 서초구 강남대로 465, 교보타워 10,11,12층</td>\n",
       "      <td>https://www.wanted.co.kr/wd/179347</td>\n",
       "    </tr>\n",
       "    <tr>\n",
       "      <th>124</th>\n",
       "      <td>현대캐피탈</td>\n",
       "      <td>Data Scientist</td>\n",
       "      <td>현대캐피탈은 자동차금융을 중심으로 신용대출, 주택대출 등 주요 금융상품과 서비스를 ...</td>\n",
       "      <td>주요업무</td>\n",
       "      <td>• 현대캐피탈 앱/웹의 자동차 및 금융서비스를 위한 AI/ML기반 개인화 모델 개발...</td>\n",
       "      <td>자격요건</td>\n",
       "      <td>• Tensorflow, PyTorch 등을 이용한 AI/ML모델 개발 경험• On...</td>\n",
       "      <td>우대사항</td>\n",
       "      <td>• AI Engineering, ML-Ops에 대한 이해와 경험• AI/ML관련 학...</td>\n",
       "      <td>혜택 및 복지</td>\n",
       "      <td>• 주택구입/전세자금대출지원• 차량구입지원금 : 현대기아차 구매시 Payback형식...</td>\n",
       "      <td>기술 스택 • 툴</td>\n",
       "      <td>[Oracle, Java, SQL, Spring Framework]</td>\n",
       "      <td>현대캐피탈 본사(서울 중구 세종대로 14 그랜드센트럴 A동)</td>\n",
       "      <td>https://www.wanted.co.kr/wd/193867</td>\n",
       "    </tr>\n",
       "    <tr>\n",
       "      <th>125</th>\n",
       "      <td>무신사</td>\n",
       "      <td>Data Analyst (데이터프로덕트팀)</td>\n",
       "      <td>[MUSINSA] Data Analyst무신사는 2001년 온라인 커뮤니티로 시작해...</td>\n",
       "      <td>주요업무</td>\n",
       "      <td>• 추천/검색 프로덕트 분석을 바탕으로 추천/검색 모델 방향성 제시• 유저에 대한 ...</td>\n",
       "      <td>자격요건</td>\n",
       "      <td>• DA경력 최소 4년 이상이신 분• SQL, 파이썬 등을 활용하여 데이터 가공/추...</td>\n",
       "      <td>우대사항</td>\n",
       "      <td>• 커머스 도메인에서 서비스 분석을 진행해 본 분• 데이터를 집요하게 파고들 수 있...</td>\n",
       "      <td>혜택 및 복지</td>\n",
       "      <td>[근무환경]• 8시~11시 자율 출퇴근• 월 1회 Early Friday 운영 (매...</td>\n",
       "      <td>기술 스택 • 툴</td>\n",
       "      <td>[Android, iOS, MySQL, React, JavaScript, Kotli...</td>\n",
       "      <td>서울특별시 성동구 성수동2가 277-47 무신사캠퍼스N1</td>\n",
       "      <td>https://www.wanted.co.kr/wd/181976</td>\n",
       "    </tr>\n",
       "    <tr>\n",
       "      <th>126</th>\n",
       "      <td>교보문고</td>\n",
       "      <td>데이터 분석 컨설턴트</td>\n",
       "      <td>[데이터인텔리전스팀]교보문고는 대한민국의 지식문화를 선도하는 기업으로 전국 37개 ...</td>\n",
       "      <td>주요업무</td>\n",
       "      <td>데이터분석과 커뮤니케이션에 대한 전문성을 바탕으로,1. 데이터 기반 문제해결    ...</td>\n",
       "      <td>자격요건</td>\n",
       "      <td>• SQL 기반의 데이터 분석 및 쿼리문 작성에 익숙하신 분• Tableau 데이터...</td>\n",
       "      <td>우대사항</td>\n",
       "      <td>• 데이터 분석 솔루션이나 플랫폼 구축 프로젝트 참여 경험이 있는 분• 온오프라인 ...</td>\n",
       "      <td>혜택 및 복지</td>\n",
       "      <td>• 원하는 시간에 출근할 수 있는 '시차출퇴근제'• 사내 사이버연수원 운영 및 직무...</td>\n",
       "      <td>None</td>\n",
       "      <td>None</td>\n",
       "      <td>서울특별시 마포구 월드컵북로54길 25 (상암동), DMC푸르지오시티 7층 교보문고...</td>\n",
       "      <td>https://www.wanted.co.kr/wd/149962</td>\n",
       "    </tr>\n",
       "    <tr>\n",
       "      <th>127</th>\n",
       "      <td>넥슨코리아(NEXON)</td>\n",
       "      <td>[인텔리전스랩스] 데이터 분석가 (게임 이상탐지)</td>\n",
       "      <td>인텔리전스랩스는 다양한 게임 정보를 활용해 ‘빅데이터’, ‘머신러닝·딥러닝’, ‘인...</td>\n",
       "      <td>주요업무</td>\n",
       "      <td>• 게임 내외로 발생되는 모든 로그 데이터를 사용하여 분석합니다.  ＞ 게임 재화,...</td>\n",
       "      <td>자격요건</td>\n",
       "      <td>• 주도적으로 분석 가설을 세우고 검증하여 의미있는 결론을 도출했던 프로젝트 경험•...</td>\n",
       "      <td>우대사항</td>\n",
       "      <td>• 이상 탐지 분야에 대한 경험 및 관심• 분석 및 모델을 통해 서비스를 직접 개발...</td>\n",
       "      <td>혜택 및 복지</td>\n",
       "      <td>• Work &amp; Life Balance 지원을 위한 마일리지/보육 시설/카페테리아/...</td>\n",
       "      <td>기술 스택 • 툴</td>\n",
       "      <td>[React, C#, Java, JavaScript, Node.js, Python,...</td>\n",
       "      <td>경기도 성남시 분당구 판교로 256번길 7, 넥슨</td>\n",
       "      <td>https://www.wanted.co.kr/wd/107009</td>\n",
       "    </tr>\n",
       "  </tbody>\n",
       "</table>\n",
       "<p>128 rows × 15 columns</p>\n",
       "</div>"
      ],
      "text/plain": [
       "     company_name                                    title  \\\n",
       "0    자비스앤빌런즈(삼쩜삼)                             Data Analyst   \n",
       "1            테크랩스          마케팅 데이터분석 (브랜드엑셀러레이팅사업부/데이터분석팀)   \n",
       "2    코인원(coinone)  Product Data Analyst (Business Analyst)   \n",
       "3             오피앤                 [Product 팀] Data Analyst   \n",
       "4     포티투닷(42dot)                      Senior Data Analyst   \n",
       "..            ...                                      ...   \n",
       "123          당근마켓                             데이터 분석가 • 검색   \n",
       "124         현대캐피탈                           Data Scientist   \n",
       "125           무신사                  Data Analyst (데이터프로덕트팀)   \n",
       "126          교보문고                              데이터 분석 컨설턴트   \n",
       "127  넥슨코리아(NEXON)              [인텔리전스랩스] 데이터 분석가 (게임 이상탐지)   \n",
       "\n",
       "                                             team_info Main Job Title  \\\n",
       "0    [We make your Money, save your Time,  find you...           주요업무   \n",
       "1    \"One for all, All for one!\"애드테크의 패러다임을 함께 선도할 ...           주요업무   \n",
       "2    Bringing Blockchain into the world.코인원은 블록체인을 ...           주요업무   \n",
       "3    오픈닥터는 병의원 맞춤형 부동산 중개 및 의료 상권 정보를 제공하는 프롭테크 스타트...           주요업무   \n",
       "4    [포지션 소개]42dot의 Data Analyst는 SDV (Software Def...           주요업무   \n",
       "..                                                 ...            ...   \n",
       "123  Data Analyst를 소개해요당근마켓의 비전은 \"당근마켓은 동네 이웃 간의 연결...           주요업무   \n",
       "124  현대캐피탈은 자동차금융을 중심으로 신용대출, 주택대출 등 주요 금융상품과 서비스를 ...           주요업무   \n",
       "125  [MUSINSA] Data Analyst무신사는 2001년 온라인 커뮤니티로 시작해...           주요업무   \n",
       "126  [데이터인텔리전스팀]교보문고는 대한민국의 지식문화를 선도하는 기업으로 전국 37개 ...           주요업무   \n",
       "127  인텔리전스랩스는 다양한 게임 정보를 활용해 ‘빅데이터’, ‘머신러닝·딥러닝’, ‘인...           주요업무   \n",
       "\n",
       "                                      Main Job Content Requirement Title  \\\n",
       "0    • 삼쩜삼이 서비스하는 프로덕트 전반에 대한 오너십을 갖고 분석업무를 진행하게 됩니...              자격요건   \n",
       "1    [브랜드 엑셀러레이팅 사업부]ㆍ고관여 제품이나 서비스의 마케팅 전략과 실행능력을 특...              자격요건   \n",
       "2    • 거래소 앱/웹의 사용자 데이터 분석, 주간 행동 지표 및 인사이트 발표, 중-장...              자격요건   \n",
       "3    [팀 소개]• 오픈닥터의 Data Analyst는 Product 팀 소속으로 일합니...              자격요건   \n",
       "4    • Data를 통한 비즈니스 의사 결정 지원• 주요 비즈니스 지표를 설계/개발• 비...              자격요건   \n",
       "..                                                 ...               ...   \n",
       "123  • 제품 개선과 사용자 경험 개선에 필요한 데이터 분석 과제를 정의하고, 이를 바탕...              자격요건   \n",
       "124  • 현대캐피탈 앱/웹의 자동차 및 금융서비스를 위한 AI/ML기반 개인화 모델 개발...              자격요건   \n",
       "125  • 추천/검색 프로덕트 분석을 바탕으로 추천/검색 모델 방향성 제시• 유저에 대한 ...              자격요건   \n",
       "126  데이터분석과 커뮤니케이션에 대한 전문성을 바탕으로,1. 데이터 기반 문제해결    ...              자격요건   \n",
       "127  • 게임 내외로 발생되는 모든 로그 데이터를 사용하여 분석합니다.  ＞ 게임 재화,...              자격요건   \n",
       "\n",
       "                                   Requirement Content Preferred Title  \\\n",
       "0    • 합리적, 논리적 사고능력을 가지신 분• A/B 테스트에 대한 이해를 바탕으로 실...            우대사항   \n",
       "1    • 중상급 수준의 Excel 활용이 가능하신 분(필수)• 종합적 사고에 기반한 방법...            우대사항   \n",
       "2    • 모바일/웹 플랫폼, 유사 업종의 데이터 분석가 실무 3년 이상 경력이 있는 분 ...            우대사항   \n",
       "3    • SQL, R, Python 등의 DBMS와 통계 소프트웨어를 잘 다루시는 분• ...            우대사항   \n",
       "4    • 데이터 분석 프로젝트 수행 및 구축 경험 7년 이상• 분석 프로젝트에 대한 요구...            우대사항   \n",
       "..                                                 ...             ...   \n",
       "123  • 5년 이상의 모바일 데이터 분석 경험이 있으며 데이터에 근거한 인사이트를 기반으...            우대사항   \n",
       "124  • Tensorflow, PyTorch 등을 이용한 AI/ML모델 개발 경험• On...            우대사항   \n",
       "125  • DA경력 최소 4년 이상이신 분• SQL, 파이썬 등을 활용하여 데이터 가공/추...            우대사항   \n",
       "126  • SQL 기반의 데이터 분석 및 쿼리문 작성에 익숙하신 분• Tableau 데이터...            우대사항   \n",
       "127  • 주도적으로 분석 가설을 세우고 검증하여 의미있는 결론을 도출했던 프로젝트 경험•...            우대사항   \n",
       "\n",
       "                                     Preferred Content Wellbeing Title  \\\n",
       "0    • 머신러닝에 대한 이해도가 있으신 분[서류는 이렇게 제출해 주세요.]• 지원서류 ...         혜택 및 복지   \n",
       "1    • 사회과학 계열 통계를 학습하신 분• 데이터 분석 관련 자격증(사회조사분석사 등)...         혜택 및 복지   \n",
       "2    • 직책 없이도 주위의 인정을 받을 만큼 강한 오너십과 책임감, 봉사 의식이 강한 ...         혜택 및 복지   \n",
       "3    • Data 관련 전공 석사 이상• Data 관련 프로젝트나 조직을 리드하신 경험이...         혜택 및 복지   \n",
       "4    • 컴퓨터 공학, 통계학, 산업공학 등 관련 학위 보유• 차량 데이터에 대한 이해 ...         혜택 및 복지   \n",
       "..                                                 ...             ...   \n",
       "123  • 검색, 피드 등 유저의 발견 경험을 연관된 데이터를 활용해 개선해본 경험이 있으...         혜택 및 복지   \n",
       "124  • AI Engineering, ML-Ops에 대한 이해와 경험• AI/ML관련 학...         혜택 및 복지   \n",
       "125  • 커머스 도메인에서 서비스 분석을 진행해 본 분• 데이터를 집요하게 파고들 수 있...         혜택 및 복지   \n",
       "126  • 데이터 분석 솔루션이나 플랫폼 구축 프로젝트 참여 경험이 있는 분• 온오프라인 ...         혜택 및 복지   \n",
       "127  • 이상 탐지 분야에 대한 경험 및 관심• 분석 및 모델을 통해 서비스를 직접 개발...         혜택 및 복지   \n",
       "\n",
       "                                     Wellbeing Content Skill Title  \\\n",
       "0    [최고의 인재에게 최고의 보상]• 개인 성과 및 경영 성과에 따른 인센티브 제도• ...        None   \n",
       "1    • 자유로운 사내문화: 상호존중, 배려, 자유로운 출퇴근 복장• 자유로운 연차: 연...        None   \n",
       "2    혜택 및 복지[코인원 Crew만을 위한 복리후생]# 든든한 밥심을 위해•﻿  점식,...        None   \n",
       "3    문제 해결을 잘하는 훌륭한 팀이 실질적 성과에 집중하고 있어요! 일 잘하는 팀원들만...        None   \n",
       "4    [전형 절차]∙ 서류전형 • 1차 인터뷰 • 2차 인터뷰 • 3차 인터뷰 • 처우협...   기술 스택 • 툴   \n",
       "..                                                 ...         ...   \n",
       "123  업무 제도 및 지원    • 세미나, 스터디 참석을 권장하고 비용을 지원하고 있어요...        None   \n",
       "124  • 주택구입/전세자금대출지원• 차량구입지원금 : 현대기아차 구매시 Payback형식...   기술 스택 • 툴   \n",
       "125  [근무환경]• 8시~11시 자율 출퇴근• 월 1회 Early Friday 운영 (매...   기술 스택 • 툴   \n",
       "126  • 원하는 시간에 출근할 수 있는 '시차출퇴근제'• 사내 사이버연수원 운영 및 직무...        None   \n",
       "127  • Work & Life Balance 지원을 위한 마일리지/보육 시설/카페테리아/...   기술 스택 • 툴   \n",
       "\n",
       "                                            Skill List  \\\n",
       "0                                                 None   \n",
       "1                                                 None   \n",
       "2                                                 None   \n",
       "3                                                 None   \n",
       "4                               [Python, SQL, Tableau]   \n",
       "..                                                 ...   \n",
       "123                                               None   \n",
       "124              [Oracle, Java, SQL, Spring Framework]   \n",
       "125  [Android, iOS, MySQL, React, JavaScript, Kotli...   \n",
       "126                                               None   \n",
       "127  [React, C#, Java, JavaScript, Node.js, Python,...   \n",
       "\n",
       "                                               Address  \\\n",
       "0                서울 강남구 테헤란로44길 8, 아이콘역삼 9,10층 자비스앤빌런즈   \n",
       "1                강남구 언주로 428, 4층, 5층, 6층, 9층, 13층, 14층   \n",
       "2                 서울특별시 영등포구 여의대로 108 파크원 타워1 45층, 46층   \n",
       "3                               서울시 강남구 논현로150길 40, 3층   \n",
       "4              서울특별시 강남구 남부순환로 2621 (도곡동, 서브원 강남빌딩) 9층   \n",
       "..                                                 ...   \n",
       "123                   서울시 서초구 강남대로 465, 교보타워 10,11,12층   \n",
       "124                  현대캐피탈 본사(서울 중구 세종대로 14 그랜드센트럴 A동)   \n",
       "125                    서울특별시 성동구 성수동2가 277-47 무신사캠퍼스N1   \n",
       "126  서울특별시 마포구 월드컵북로54길 25 (상암동), DMC푸르지오시티 7층 교보문고...   \n",
       "127                        경기도 성남시 분당구 판교로 256번길 7, 넥슨   \n",
       "\n",
       "                            Current URL  \n",
       "0    https://www.wanted.co.kr/wd/225741  \n",
       "1    https://www.wanted.co.kr/wd/225236  \n",
       "2    https://www.wanted.co.kr/wd/225354  \n",
       "3    https://www.wanted.co.kr/wd/224969  \n",
       "4    https://www.wanted.co.kr/wd/161548  \n",
       "..                                  ...  \n",
       "123  https://www.wanted.co.kr/wd/179347  \n",
       "124  https://www.wanted.co.kr/wd/193867  \n",
       "125  https://www.wanted.co.kr/wd/181976  \n",
       "126  https://www.wanted.co.kr/wd/149962  \n",
       "127  https://www.wanted.co.kr/wd/107009  \n",
       "\n",
       "[128 rows x 15 columns]"
      ]
     },
     "execution_count": 44,
     "metadata": {},
     "output_type": "execute_result"
    }
   ],
   "source": [
    "### data_list의 '-'를 *로 변경\n",
    "res_df = res_df.replace('- ', '• ', regex=True)\n",
    "res_df"
   ]
  },
  {
   "cell_type": "code",
   "execution_count": null,
   "metadata": {},
   "outputs": [],
   "source": []
  },
  {
   "cell_type": "code",
   "execution_count": 16,
   "metadata": {},
   "outputs": [],
   "source": [
    "driver.quit() ## 크롬드라이버 종료"
   ]
  },
  {
   "cell_type": "code",
   "execution_count": null,
   "metadata": {},
   "outputs": [],
   "source": []
  },
  {
   "cell_type": "code",
   "execution_count": 24,
   "metadata": {},
   "outputs": [],
   "source": [
    "\n",
    "team_info = None\n",
    "main_job_title = None\n",
    "main_job_content = None\n",
    "requirement_title = None\n",
    "requirement_content = None\n",
    "preferred_title = None\n",
    "preferred_content = None\n",
    "wellbeing_title = None\n",
    "wellbeing_content = None\n",
    "skill_title = None\n",
    "skill_list = None\n",
    "address = None\n",
    "current_url = None\n",
    "\n",
    "\n",
    "## 상세 더보기 버튼 누르기\n",
    "try:\n",
    "    driver.find_element('xpath', '//*[@id=\"__next\"]/main/div[1]/div/section/section/article[1]/div/button/span[2]').click()\n",
    "except Exception as e:\n",
    "    print(idx, e)\n",
    "    pass\n",
    "\n",
    "time.sleep(1)\n",
    "\n",
    "html = driver.page_source\n",
    "soup = BeautifulSoup(html, 'html.parser')\n"
   ]
  },
  {
   "cell_type": "code",
   "execution_count": 25,
   "metadata": {},
   "outputs": [],
   "source": [
    "\n",
    "company_name = driver.find_element('xpath', '//*[@id=\"__next\"]/main/div[1]/div/section/header/div/div[1]/a').text\n",
    "title = driver.find_element('xpath', '//*[@id=\"__next\"]/main/div[1]/div/section/header/h1').text\n",
    "try:\n",
    "    target_elements1 = driver.find_element('xpath', '//*[@id=\"__next\"]/main/div[1]/div/section/section/article[1]/div/div[1]/h3')\n",
    "    # 요소가 화면에 보이도록 스크롤\n",
    "    driver.execute_script(\"arguments[0].scrollIntoView();\", target_elements1)\n",
    "\n",
    "    # 요소가 보일때까지 대기\n",
    "    WebDriverWait(driver, 10).until(EC.presence_of_element_located((By.XPATH,\\\n",
    "    '//*[@id=\"__next\"]/main/div[1]/div/section/section/article[1]/div/div[1]/h3')))\n",
    "\n",
    "    ## 스크린샷 찍기\n",
    "    driver.save_screenshot(f'screenshot/test.png')\n",
    "\n",
    "    ## 저장할때까지 기다리기\n",
    "    time.sleep(1)\n",
    "except Exception as e:\n",
    "    print(\"스크린샷 에러:\", idx, e)\n",
    "\n",
    "\n"
   ]
  },
  {
   "cell_type": "code",
   "execution_count": 26,
   "metadata": {},
   "outputs": [
    {
     "ename": "IndexError",
     "evalue": "list index out of range",
     "output_type": "error",
     "traceback": [
      "\u001b[0;31m---------------------------------------------------------------------------\u001b[0m",
      "\u001b[0;31mIndexError\u001b[0m                                Traceback (most recent call last)",
      "\u001b[1;32m/Users/seedbox/project/instaCrawler/원티드.ipynb 셀 32\u001b[0m line \u001b[0;36m1\n\u001b[1;32m      <a href='vscode-notebook-cell:/Users/seedbox/project/instaCrawler/%EC%9B%90%ED%8B%B0%EB%93%9C.ipynb#X46sZmlsZQ%3D%3D?line=8'>9</a>\u001b[0m preferred_title \u001b[39m=\u001b[39m position_detail\u001b[39m.\u001b[39mfind_all(\u001b[39m'\u001b[39m\u001b[39mdiv\u001b[39m\u001b[39m'\u001b[39m, {\u001b[39m'\u001b[39m\u001b[39mclass\u001b[39m\u001b[39m'\u001b[39m: \u001b[39m'\u001b[39m\u001b[39mJobDescription_JobDescription__paragraph__Iwfqn\u001b[39m\u001b[39m'\u001b[39m})[\u001b[39m2\u001b[39m]\u001b[39m.\u001b[39mfind(\u001b[39m'\u001b[39m\u001b[39mh3\u001b[39m\u001b[39m'\u001b[39m)\u001b[39m.\u001b[39mtext\n\u001b[1;32m     <a href='vscode-notebook-cell:/Users/seedbox/project/instaCrawler/%EC%9B%90%ED%8B%B0%EB%93%9C.ipynb#X46sZmlsZQ%3D%3D?line=9'>10</a>\u001b[0m preferred_content \u001b[39m=\u001b[39m position_detail\u001b[39m.\u001b[39mfind_all(\u001b[39m'\u001b[39m\u001b[39mdiv\u001b[39m\u001b[39m'\u001b[39m, {\u001b[39m'\u001b[39m\u001b[39mclass\u001b[39m\u001b[39m'\u001b[39m: \u001b[39m'\u001b[39m\u001b[39mJobDescription_JobDescription__paragraph__Iwfqn\u001b[39m\u001b[39m'\u001b[39m})[\u001b[39m2\u001b[39m]\u001b[39m.\u001b[39mfind(\u001b[39m'\u001b[39m\u001b[39mp\u001b[39m\u001b[39m'\u001b[39m)\u001b[39m.\u001b[39mtext\n\u001b[0;32m---> <a href='vscode-notebook-cell:/Users/seedbox/project/instaCrawler/%EC%9B%90%ED%8B%B0%EB%93%9C.ipynb#X46sZmlsZQ%3D%3D?line=10'>11</a>\u001b[0m wellbeing_title \u001b[39m=\u001b[39m position_detail\u001b[39m.\u001b[39;49mfind_all(\u001b[39m'\u001b[39;49m\u001b[39mdiv\u001b[39;49m\u001b[39m'\u001b[39;49m, {\u001b[39m'\u001b[39;49m\u001b[39mclass\u001b[39;49m\u001b[39m'\u001b[39;49m: \u001b[39m'\u001b[39;49m\u001b[39mJobDescription_JobDescription__paragraph__Iwfqn\u001b[39;49m\u001b[39m'\u001b[39;49m})[\u001b[39m3\u001b[39;49m]\u001b[39m.\u001b[39mfind(\u001b[39m'\u001b[39m\u001b[39mh3\u001b[39m\u001b[39m'\u001b[39m)\u001b[39m.\u001b[39mtext\n\u001b[1;32m     <a href='vscode-notebook-cell:/Users/seedbox/project/instaCrawler/%EC%9B%90%ED%8B%B0%EB%93%9C.ipynb#X46sZmlsZQ%3D%3D?line=11'>12</a>\u001b[0m wellbeing_content \u001b[39m=\u001b[39m position_detail\u001b[39m.\u001b[39mfind_all(\u001b[39m'\u001b[39m\u001b[39mdiv\u001b[39m\u001b[39m'\u001b[39m, {\u001b[39m'\u001b[39m\u001b[39mclass\u001b[39m\u001b[39m'\u001b[39m: \u001b[39m'\u001b[39m\u001b[39mJobDescription_JobDescription__paragraph__Iwfqn\u001b[39m\u001b[39m'\u001b[39m})[\u001b[39m3\u001b[39m]\u001b[39m.\u001b[39mfind(\u001b[39m'\u001b[39m\u001b[39mp\u001b[39m\u001b[39m'\u001b[39m)\u001b[39m.\u001b[39mtext\n\u001b[1;32m     <a href='vscode-notebook-cell:/Users/seedbox/project/instaCrawler/%EC%9B%90%ED%8B%B0%EB%93%9C.ipynb#X46sZmlsZQ%3D%3D?line=13'>14</a>\u001b[0m \u001b[39m## 기술스택\u001b[39;00m\n",
      "\u001b[0;31mIndexError\u001b[0m: list index out of range"
     ]
    }
   ],
   "source": [
    "position_detail = soup.find('section', {'class': 'JobContent_descriptionWrapper__SM4UD'})\\\n",
    "                    .find('article', {'class': 'JobDescription_JobDescription__VWfcb'})\n",
    "team_info = position_detail.find('p').text\n",
    "main_job_title = position_detail.find_all('div', {'class': 'JobDescription_JobDescription__paragraph__Iwfqn'})[0].find('h3').text\n",
    "main_job_content = position_detail.find_all('div', {'class': 'JobDescription_JobDescription__paragraph__Iwfqn'})[0].find('p').text\n",
    "requirement_title = position_detail.find_all('div', {'class': 'JobDescription_JobDescription__paragraph__Iwfqn'})[1].find('h3').text\n",
    "requirement_content = position_detail.find_all('div', {'class': 'JobDescription_JobDescription__paragraph__Iwfqn'})[1].find('p').text\n",
    "\n",
    "preferred_title = position_detail.find_all('div', {'class': 'JobDescription_JobDescription__paragraph__Iwfqn'})[2].find('h3').text\n",
    "preferred_content = position_detail.find_all('div', {'class': 'JobDescription_JobDescription__paragraph__Iwfqn'})[2].find('p').text\n",
    "wellbeing_title = position_detail.find_all('div', {'class': 'JobDescription_JobDescription__paragraph__Iwfqn'})[3].find('h3').text\n",
    "wellbeing_content = position_detail.find_all('div', {'class': 'JobDescription_JobDescription__paragraph__Iwfqn'})[3].find('p').text\n",
    "\n",
    "## 기술스택\n",
    "skill_stacks = soup.find('section', {'class': 'JobContent_descriptionWrapper__SM4UD'})\\\n",
    "                    .find('article', {'class': 'JobSkillTags_JobSkillTags__V1tZr'})\n",
    "\n",
    "if skill_stacks:\n",
    "\n",
    "    skill_title = skill_stacks.find('h2').text\n",
    "    skill_list = [i.text for i in skill_stacks.find('ul').find_all('li')]\n",
    "\n",
    "address = soup.find('article', {'class': 'JobWorkPlace_JobWorkPlace__5fs5x'}).find('span').text\n",
    "current_url = driver.current_url\n"
   ]
  },
  {
   "cell_type": "code",
   "execution_count": 27,
   "metadata": {},
   "outputs": [
    {
     "data": {
      "text/plain": [
       "'혜택 및 복지'"
      ]
     },
     "execution_count": 27,
     "metadata": {},
     "output_type": "execute_result"
    }
   ],
   "source": [
    "preferred_title"
   ]
  },
  {
   "cell_type": "code",
   "execution_count": 28,
   "metadata": {},
   "outputs": [
    {
     "data": {
      "text/plain": [
       "'[Recruiting Process]Application Review - Home Test - Phone Interview - Virtual Onsite Interview – Offer'"
      ]
     },
     "execution_count": 28,
     "metadata": {},
     "output_type": "execute_result"
    }
   ],
   "source": [
    "preferred_content"
   ]
  },
  {
   "cell_type": "code",
   "execution_count": null,
   "metadata": {},
   "outputs": [],
   "source": []
  },
  {
   "cell_type": "code",
   "execution_count": null,
   "metadata": {},
   "outputs": [],
   "source": []
  },
  {
   "cell_type": "code",
   "execution_count": 18,
   "metadata": {},
   "outputs": [
    {
     "data": {
      "text/plain": [
       "'98be3e798d86de55001c047c51e6aab48fc785df6d7197d219f55db7f58f196f'"
      ]
     },
     "execution_count": 18,
     "metadata": {},
     "output_type": "execute_result"
    }
   ],
   "source": [
    "import secrets\n",
    "\n",
    "secrets.token_hex()"
   ]
  },
  {
   "cell_type": "code",
   "execution_count": 19,
   "metadata": {},
   "outputs": [
    {
     "data": {
      "text/plain": [
       "'a6fb045e9c73c018cb0ba456eaf2edf77b033cda0e983795de0e26dca9782784'"
      ]
     },
     "execution_count": 19,
     "metadata": {},
     "output_type": "execute_result"
    }
   ],
   "source": [
    "secrets.token_hex()"
   ]
  },
  {
   "cell_type": "code",
   "execution_count": null,
   "metadata": {},
   "outputs": [],
   "source": []
  }
 ],
 "metadata": {
  "kernelspec": {
   "display_name": "venv",
   "language": "python",
   "name": "python3"
  },
  "language_info": {
   "codemirror_mode": {
    "name": "ipython",
    "version": 3
   },
   "file_extension": ".py",
   "mimetype": "text/x-python",
   "name": "python",
   "nbconvert_exporter": "python",
   "pygments_lexer": "ipython3",
   "version": "3.11.7"
  }
 },
 "nbformat": 4,
 "nbformat_minor": 2
}
